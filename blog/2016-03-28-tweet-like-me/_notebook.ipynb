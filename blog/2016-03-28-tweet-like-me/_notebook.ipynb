{
 "cells": [
  {
   "cell_type": "markdown",
   "metadata": {},
   "source": [
    "An experiment in creating a robot that will imitate me on Twitter.\n",
    "\n",
    "---\n",
    "\n",
    "So, I'm taking a Machine Learning course this semester in school, and one of the topics we keep coming back to is natural language processing and the 'bag of words' data structure. That is, given a sentence:\n",
    "\n",
    "`How much wood would a woodchuck chuck if a woodchuck could chuck wood?`\n",
    "\n",
    "We can represent that sentence as the following list:\n",
    "\n",
    "`{\n",
    "    How: 1\n",
    "    much: 1\n",
    "    wood: 2\n",
    "    would: 2\n",
    "    a: 2\n",
    "    woodchuck: 2\n",
    "    chuck: 2\n",
    "    if: 1\n",
    "}`\n",
    "\n",
    "Ignoring *where* the words happened, we're just interested in how *often* the words occurred. That got me thinking: I wonder what would happen if I built a robot that just imitated how often I said things? It's dangerous territory when computer scientists ask \"what if,\" but I got curious enough I wanted to follow through.\n",
    "\n",
    "## The Objective\n",
    "\n",
    "Given an input list of Tweets, build up the following things:\n",
    "\n",
    "1. The distribution of starting words; since there are no \"prior\" words to go from, we need to treat this as a special case.\n",
    "2. The distribution of words given a previous word; for example, every time I use the word `woodchuck` in the example sentence, there is a 50% chance it is followed by `chuck` and a 50% chance it is followed by `could`. I need this distribution for all words.\n",
    "3. The distribution of quantity of hashtags; Do I most often use just one? Two? Do they follow something like a Poisson distribution?\n",
    "4. Distribution of hashtags; Given a number of hashtags, what is the actual content? I'll treat hashtags as separate from the content of a tweet.\n",
    "\n",
    "## The Data\n",
    "\n",
    "I'm using as input my tweet history. I don't really use Twitter anymore, but it seems like a fun use of the dataset. I'd like to eventually build this to a point where I can imitate anyone on Twitter using their last 100 tweets or so, but I'll start with this as example code.\n",
    "\n",
    "## The Algorithm\n",
    "\n",
    "I'll be using the [NLTK](http://www.nltk.org/) library for doing a lot of the heavy lifting. First, let's import the data:"
   ]
  },
  {
   "cell_type": "code",
   "execution_count": 1,
   "metadata": {
    "collapsed": false
   },
   "outputs": [],
   "source": [
    "import pandas as pd\n",
    "\n",
    "tweets = pd.read_csv('tweets.csv')\n",
    "text = tweets.text\n",
    "\n",
    "# Don't include tweets in reply to or mentioning people\n",
    "replies = text.str.contains('@')\n",
    "text_norep = text.loc[~replies]"
   ]
  },
  {
   "cell_type": "markdown",
   "metadata": {},
   "source": [
    "And now that we've got data, let's start crunching. First, tokenize and build out the distribution of first word:"
   ]
  },
  {
   "cell_type": "code",
   "execution_count": 2,
   "metadata": {
    "collapsed": false
   },
   "outputs": [],
   "source": [
    "from nltk.tokenize import TweetTokenizer\n",
    "tknzr = TweetTokenizer()\n",
    "tokens = text_norep.map(tknzr.tokenize)\n",
    "\n",
    "first_words = tokens.map(lambda x: x[0])\n",
    "first_words_alpha = first_words[first_words.str.isalpha()]\n",
    "first_word_dist = first_words_alpha.value_counts() / len(first_words_alpha)"
   ]
  },
  {
   "cell_type": "markdown",
   "metadata": {},
   "source": [
    "Next, we need to build out the conditional distributions. That is, what is the probability of the next word given the current word is $X$? This one is a bit more involved. First, find all unique words, and then find what words proceed them. This can probably be done in a more efficient manner than I'm currently doing here, but we'll ignore that for the moment."
   ]
  },
  {
   "cell_type": "code",
   "execution_count": 3,
   "metadata": {
    "collapsed": false
   },
   "outputs": [],
   "source": [
    "from functools import reduce\n",
    "\n",
    "# Get all possible words\n",
    "all_words = reduce(lambda x, y: x+y, tokens, [])\n",
    "unique_words = set(all_words)\n",
    "actual_words = set([x if x[0] != '.' else None for x in unique_words])\n",
    "\n",
    "word_dist = {}\n",
    "for word in iter(actual_words):\n",
    "    indices = [i for i, j in enumerate(all_words) if j == word]\n",
    "    proceeding = [all_words[i+1] for i in indices]\n",
    "    word_dist[word] = proceeding"
   ]
  },
  {
   "cell_type": "markdown",
   "metadata": {},
   "source": [
    "Now that we've got the tweet analysis done, it's time for the fun part: hashtags! Let's count how many hashtags are in each tweet, I want to get a sense of the distribution."
   ]
  },
  {
   "cell_type": "code",
   "execution_count": 4,
   "metadata": {
    "collapsed": false
   },
   "outputs": [
    {
     "data": {
      "text/plain": [
       "<matplotlib.axes._subplots.AxesSubplot at 0x18e59dc28d0>"
      ]
     },
     "execution_count": 4,
     "metadata": {},
     "output_type": "execute_result"
    },
    {
     "data": {
      "image/png": "[encoded data removed]",
      "text/plain": [
       "<matplotlib.figure.Figure at 0x18e59dabe80>"
      ]
     },
     "metadata": {},
     "output_type": "display_data"
    }
   ],
   "source": [
    "import matplotlib.pyplot as plt\n",
    "%matplotlib inline\n",
    "\n",
    "hashtags = text_norep.str.count('#')\n",
    "bins = hashtags.unique().max()\n",
    "hashtags.plot(kind='hist', bins=bins)"
   ]
  },
  {
   "cell_type": "markdown",
   "metadata": {},
   "source": [
    "That looks like a Poisson distribution, kind of as I expected. I'm guessing my number of hashtags per tweet is $\\sim Poi(1)$, but let's actually find the [most likely estimator](https://en.wikipedia.org/wiki/Poisson_distribution#Maximum_likelihood) which in this case is just $\\bar{\\lambda}$:"
   ]
  },
  {
   "cell_type": "code",
   "execution_count": 5,
   "metadata": {
    "collapsed": false
   },
   "outputs": [
    {
     "data": {
      "text/plain": [
       "0.870236869207003"
      ]
     },
     "execution_count": 5,
     "metadata": {},
     "output_type": "execute_result"
    }
   ],
   "source": [
    "mle = hashtags.mean()\n",
    "mle"
   ]
  },
  {
   "cell_type": "markdown",
   "metadata": {},
   "source": [
    "Pretty close! So we can now simulate how many hashtags are in a tweet. Let's also find what hashtags are actually used:"
   ]
  },
  {
   "cell_type": "code",
   "execution_count": 6,
   "metadata": {
    "collapsed": false
   },
   "outputs": [
    {
     "data": {
      "text/plain": [
       "603"
      ]
     },
     "execution_count": 6,
     "metadata": {},
     "output_type": "execute_result"
    }
   ],
   "source": [
    "hashtags = [x for x in all_words if x[0] == '#']\n",
    "n_hashtags = len(hashtags)\n",
    "\n",
    "unique_hashtags = list(set([x for x in unique_words if x[0] == '#']))\n",
    "hashtag_dist = pd.DataFrame({'hashtags': unique_hashtags,\n",
    "                             'prob': [all_words.count(h) / n_hashtags\n",
    "                                      for h in unique_hashtags]})\n",
    "len(hashtag_dist)"
   ]
  },
  {
   "cell_type": "markdown",
   "metadata": {},
   "source": [
    "Turns out I have used 603 different hashtags during my time on Twitter. That means I was using a unique hashtag for about every third tweet.\n",
    "\n",
    "In better news though, we now have all the data we need to go about actually constructing tweets! The process will happen in a few steps:\n",
    "\n",
    "1. Randomly select what the first word will be.\n",
    "2. Randomly select the number of hashtags for this tweet, and then select the actual hashtags.\n",
    "3. Fill in the remaining space of 140 characters with random words taken from my tweets.\n",
    "\n",
    "And hopefully, we won't have anything too crazy come out the other end. The way we do the selection follows a [Multinomial Distribution](https://en.wikipedia.org/wiki/Multinomial_distribution): given a lot of different values with specific probability, pick one. Let's give a quick example:\n",
    "\n",
    "```\n",
    "x: .33\n",
    "y: .5\n",
    "z: .17\n",
    "```\n",
    "\n",
    "That is, I pick `x` with probability 33%, `y` with probability 50%, and so on. In context of our sentence construction, I've built out the probabilities of specific words already - now I just need to simulate that distribution. Time for the engine to actually be developed!"
   ]
  },
  {
   "cell_type": "code",
   "execution_count": 7,
   "metadata": {
    "collapsed": true
   },
   "outputs": [],
   "source": [
    "import numpy as np\n",
    "\n",
    "def multinom_sim(n, vals, probs):\n",
    "    occurrences = np.random.multinomial(n, probs)\n",
    "    results = occurrences * vals\n",
    "    return ' '.join(results[results != ''])\n",
    "\n",
    "def sim_n_hashtags(hashtag_freq):\n",
    "    return np.random.poisson(hashtag_freq)\n",
    "\n",
    "def sim_hashtags(n, hashtag_dist):\n",
    "    return multinom_sim(n, hashtag_dist.hashtags, hashtag_dist.prob)\n",
    "\n",
    "def sim_first_word(first_word_dist):\n",
    "    probs = np.float64(first_word_dist.values)\n",
    "    return multinom_sim(1, first_word_dist.reset_index()['index'], probs)\n",
    "\n",
    "def sim_next_word(current, word_dist):\n",
    "    dist = pd.Series(word_dist[current])\n",
    "    probs = np.ones(len(dist)) / len(dist)\n",
    "    return multinom_sim(1, dist, probs)"
   ]
  },
  {
   "cell_type": "markdown",
   "metadata": {},
   "source": [
    "## Pulling it all together\n",
    "\n",
    "I've now built out all the code I need to actually simulate a sentence written by me. Let's try doing an example with five words and a single hashtag:"
   ]
  },
  {
   "cell_type": "code",
   "execution_count": 8,
   "metadata": {
    "collapsed": false
   },
   "outputs": [
    {
     "data": {
      "text/plain": [
       "'My first all-nighter of friends #oldschool'"
      ]
     },
     "execution_count": 8,
     "metadata": {},
     "output_type": "execute_result"
    }
   ],
   "source": [
    "first = sim_first_word(first_word_dist)\n",
    "second = sim_next_word(first, word_dist)\n",
    "third = sim_next_word(second, word_dist)\n",
    "fourth = sim_next_word(third, word_dist)\n",
    "fifth = sim_next_word(fourth, word_dist)\n",
    "hashtag = sim_hashtags(1, hashtag_dist)\n",
    "\n",
    "' '.join((first, second, third, fourth, fifth, hashtag))"
   ]
  },
  {
   "cell_type": "markdown",
   "metadata": {},
   "source": [
    "Let's go ahead and put everything together! We're going to simulate a first word, simulate the hashtags, and then simulate to fill the gap until we've either taken up all the space or reached a period."
   ]
  },
  {
   "cell_type": "code",
   "execution_count": 9,
   "metadata": {
    "collapsed": false
   },
   "outputs": [],
   "source": [
    "def simulate_tweet():\n",
    "    chars_remaining = 140\n",
    "    first = sim_first_word(first_word_dist)\n",
    "    n_hash = sim_n_hashtags(mle)\n",
    "    hashtags = sim_hashtags(n_hash, hashtag_dist)\n",
    "    \n",
    "    chars_remaining -= len(first) + len(hashtags)\n",
    "    \n",
    "    tweet = first\n",
    "    current = first\n",
    "    while chars_remaining > len(tweet) + len(hashtags) and current[0] != '.' and current[0] != '!':\n",
    "        current = sim_next_word(current, word_dist)\n",
    "        tweet += ' ' + current\n",
    "        \n",
    "    tweet = tweet[:-2] + tweet[-1]\n",
    "        \n",
    "    return ' '.join((tweet, hashtags)).strip()"
   ]
  },
  {
   "cell_type": "markdown",
   "metadata": {},
   "source": [
    "## The results\n",
    "\n",
    "And now for something completely different: twenty random tweets dreamed up by my computer and my Twitter data. Here you go:"
   ]
  },
  {
   "cell_type": "code",
   "execution_count": 12,
   "metadata": {
    "collapsed": false
   },
   "outputs": [
    {
     "name": "stdout",
     "output_type": "stream",
     "text": [
      "Also , I'm at 8 this morning. #thursdaysgohard #ornot\n",
      "\n",
      "Turns out of us breathe the code will want to my undergraduate career is becoming more night trying ? Religion is now as a chane #HYPE\n",
      "\n",
      "You know what recursion is to review the UNCC. #ornot\n",
      "\n",
      "There are really sore 3 bonfires in my first writing the library ground floor if awesome. #realtalk #impressed\n",
      "\n",
      "So we can make it out there's nothing but I'm not let us so hot I could think I may be good. #SwingDance\n",
      "\n",
      "Happy Christmas , at Harris Teeter to be be godly or Roman Catholic ). #4b392b#4b392b #Isaiah26\n",
      "\n",
      "For context , I in the most decisive factor of the same for homework. #accomplishment\n",
      "\n",
      "Freaking done. #loveyouall\n",
      "\n",
      "New blog post : Don't jump in a quiz in with a knife fight. #haskell #earlybirthday\n",
      "\n",
      "God shows me legitimately want to get some food and one day.\n",
      "\n",
      "Stormed the queen city. #mindblown\n",
      "\n",
      "The day of a cold at least outside right before the semester ..\n",
      "\n",
      "Finished with the way back. #winners\n",
      "\n",
      "Waking up , OJ , I feel like Nick Jonas today.\n",
      "\n",
      "First draft of so hard drive. #humansvszombies\n",
      "\n",
      "Eric Whitacre is the wise creation.\n",
      "\n",
      "Ethics paper first , music in close to everyone who just be posting up with my sin , and Jerry Springr #TheLittleThings\n",
      "\n",
      "Love that you know enough time I've eaten at 8 PM. #deepthoughts #stillblownaway\n",
      "\n",
      "Lead. #ThinkingTooMuch #Christmas\n",
      "\n",
      "Aamazing conference when you married #DepartmentOfRedundancyDepartment Yep , but there's a legitimate challenge.\n",
      "\n"
     ]
    }
   ],
   "source": [
    "for i in range(0, 20):\n",
    "    print(simulate_tweet())\n",
    "    print()"
   ]
  },
  {
   "cell_type": "markdown",
   "metadata": {},
   "source": [
    "...Which all ended up being a whole lot more nonsensical than I had hoped for. There are some good ones, so I'll call that an accomplishment! I was banking on grammar not being an issue: since my tweets use impeccable grammar, the program modeled off them should have pretty good grammar as well. There are going to be some hilarious edge cases (I'm looking at you, `Ethics paper first, music in close to everyone`) that make no sense, and some hilarious edge cases (`Waking up, OJ, I feel like Nick Jonas today`) that make me feel like I should have a Twitter rap career. On the whole though, the structure came out alright.\n",
    "\n",
    "## Moving on from here\n",
    "\n",
    "During class we also talked about an interesting idea: trying to analyze corporate documents and corporate speech. I'd be interested to know what this analysis applied to something like a couple of bank press releases could do. By any means, the code needs some work to clean it up before I get that far.\n",
    "\n",
    "## For further reading\n",
    "\n",
    "I'm pretty confident I re-invented a couple wheels along the way - what I'm doing feels a lot like what [Markov Chain Monte Carlo](https://en.wikipedia.org/wiki/Markov_chain_Monte_Carlo) is intended to do. But I've never worked explicitly with that before, so more research is needed."
   ]
  }
 ],
 "metadata": {
  "kernelspec": {
   "display_name": "Python 3",
   "language": "python",
   "name": "python3"
  },
  "language_info": {
   "codemirror_mode": {
    "name": "ipython",
    "version": 3
   },
   "file_extension": ".py",
   "mimetype": "text/x-python",
   "name": "python",
   "nbconvert_exporter": "python",
   "pygments_lexer": "ipython3",
   "version": "3.5.1"
  }
 },
 "nbformat": 4,
 "nbformat_minor": 0
}
