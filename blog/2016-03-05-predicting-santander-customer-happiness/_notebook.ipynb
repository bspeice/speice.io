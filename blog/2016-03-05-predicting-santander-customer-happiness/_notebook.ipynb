{
 "cells": [
  {
   "cell_type": "markdown",
   "metadata": {},
   "source": [
    "### My first Kaggle competition\n",
    "\n",
    "It's time! After embarking on a Machine Learning class this semester, and with a Saturday in which I don't have much planned, I wanted to put this class and training to work. It's my first competition submission. I want to walk you guys through how I'm approaching this problem, because I thought it would be really neat. The competition is Banco Santander's [Santander Customer Satisfaction][1] competition. It seemed like an easy enough problem I could actually make decent progress on it.\n",
    "\n",
    "# Data Exploration\n",
    "\n",
    "First up: we need to load our data and do some exploratory work. Because we're going to be using this data for model selection prior to testing, we need to make a further split. I've already gone ahead and done this work, please see the code in the [appendix below](#Appendix).\n",
    "\n",
    "[1]: https://www.kaggle.com/c/santander-customer-satisfaction"
   ]
  },
  {
   "cell_type": "code",
   "execution_count": 1,
   "metadata": {
    "collapsed": false
   },
   "outputs": [],
   "source": [
    "import pandas as pd\n",
    "import numpy as np\n",
    "import matplotlib.pyplot as plt\n",
    "%matplotlib inline\n",
    "\n",
    "# Record how long it takes to run the notebook - I'm curious.\n",
    "from datetime import datetime\n",
    "start = datetime.now()\n",
    "\n",
    "dataset = pd.read_csv('split_train.csv')\n",
    "dataset.index = dataset.ID\n",
    "X = dataset.drop(['TARGET', 'ID', 'ID.1'], 1)\n",
    "y = dataset.TARGET"
   ]
  },
  {
   "cell_type": "code",
   "execution_count": 2,
   "metadata": {
    "collapsed": false
   },
   "outputs": [
    {
     "data": {
      "text/plain": [
       "array([0, 1], dtype=int64)"
      ]
     },
     "execution_count": 2,
     "metadata": {},
     "output_type": "execute_result"
    }
   ],
   "source": [
    "y.unique()"
   ]
  },
  {
   "cell_type": "code",
   "execution_count": 3,
   "metadata": {
    "collapsed": false
   },
   "outputs": [
    {
     "data": {
      "text/plain": [
       "369"
      ]
     },
     "execution_count": 3,
     "metadata": {},
     "output_type": "execute_result"
    }
   ],
   "source": [
    "len(X.columns)"
   ]
  },
  {
   "cell_type": "markdown",
   "metadata": {},
   "source": [
    "Okay, so there are only [two classes we're predicting][2]: 1 for unsatisfied customers, 0 for satisfied customers. I would have preferred this to be something more like a regression, or predicting multiple classes: maybe the customer isn't the most happy, but is nowhere near closing their accounts. For now though, that's just the data we're working with.\n",
    "\n",
    "Now, I'd like to make a scatter matrix of everything going on. Unfortunately as noted above, we have 369 different features. There's no way I can graphically make sense of that much data to start with.\n",
    "\n",
    "We're also not told what the data actually represents: Are these survey results? Average time between contact with a customer care person? Frequency of contacting a customer care person? The idea is that I need to reduce the number of dimensions we're predicting across.\n",
    "\n",
    "## Dimensionality Reduction pt. 1 - Binary Classifiers\n",
    "\n",
    "My first attempt to reduce the data dimensionality is to find all the binary classifiers in the dataset \\(i.e. 0 or 1 values\\) and see if any of those are good \\(or anti-good\\) predictors of the final data.\n",
    "\n",
    "[2]: https://www.kaggle.com/c/santander-customer-satisfaction/data"
   ]
  },
  {
   "cell_type": "code",
   "execution_count": 4,
   "metadata": {
    "collapsed": false
   },
   "outputs": [
    {
     "data": {
      "text/plain": [
       "111"
      ]
     },
     "execution_count": 4,
     "metadata": {},
     "output_type": "execute_result"
    }
   ],
   "source": [
    "cols = X.columns\n",
    "b_class = []\n",
    "for c in cols:\n",
    "    if len(X[c].unique()) == 2:\n",
    "        b_class.append(c)\n",
    "        \n",
    "len(b_class)"
   ]
  },
  {
   "cell_type": "markdown",
   "metadata": {},
   "source": [
    "So there are 111 features in the dataset that are a binary label. Let's see if any of them are good at predicting the users satisfaction!"
   ]
  },
  {
   "cell_type": "code",
   "execution_count": 5,
   "metadata": {
    "collapsed": false
   },
   "outputs": [
    {
     "data": {
      "text/html": [
       "<div>\n",
       "<table border=\"1\" class=\"dataframe\">\n",
       "  <thead>\n",
       "    <tr style=\"text-align: right;\">\n",
       "      <th></th>\n",
       "      <th>Accuracy</th>\n",
       "    </tr>\n",
       "  </thead>\n",
       "  <tbody>\n",
       "    <tr>\n",
       "      <th>count</th>\n",
       "      <td>111.000000</td>\n",
       "    </tr>\n",
       "    <tr>\n",
       "      <th>mean</th>\n",
       "      <td>0.905159</td>\n",
       "    </tr>\n",
       "    <tr>\n",
       "      <th>std</th>\n",
       "      <td>0.180602</td>\n",
       "    </tr>\n",
       "    <tr>\n",
       "      <th>min</th>\n",
       "      <td>0.043598</td>\n",
       "    </tr>\n",
       "    <tr>\n",
       "      <th>25%</th>\n",
       "      <td>0.937329</td>\n",
       "    </tr>\n",
       "    <tr>\n",
       "      <th>50%</th>\n",
       "      <td>0.959372</td>\n",
       "    </tr>\n",
       "    <tr>\n",
       "      <th>75%</th>\n",
       "      <td>0.960837</td>\n",
       "    </tr>\n",
       "    <tr>\n",
       "      <th>max</th>\n",
       "      <td>0.960837</td>\n",
       "    </tr>\n",
       "  </tbody>\n",
       "</table>\n",
       "</div>"
      ],
      "text/plain": [
       "         Accuracy\n",
       "count  111.000000\n",
       "mean     0.905159\n",
       "std      0.180602\n",
       "min      0.043598\n",
       "25%      0.937329\n",
       "50%      0.959372\n",
       "75%      0.960837\n",
       "max      0.960837"
      ]
     },
     "execution_count": 5,
     "metadata": {},
     "output_type": "execute_result"
    }
   ],
   "source": [
    "# First we need to `binarize` the data to 0-1; some of the labels are {0, 1},\n",
    "# some are {0, 3}, etc.\n",
    "from sklearn.preprocessing import binarize\n",
    "X_bin = binarize(X[b_class])\n",
    "\n",
    "accuracy = [np.mean(X_bin[:,i] == y) for i in range(0, len(b_class))]\n",
    "acc_df = pd.DataFrame({\"Accuracy\": accuracy}, index=b_class)\n",
    "acc_df.describe()"
   ]
  },
  {
   "cell_type": "markdown",
   "metadata": {},
   "source": [
    "Wow! Looks like we've got some incredibly predictive features! So much so that we should be a bit concerned. My initial guess for what's happening is that we have a sparsity issue: so many of the values are 0, and these likely happen to line up with satisfied customers.\n",
    "\n",
    "So the question we must now answer, which I likely should have asked long before now: What exactly is the distribution of un/satisfied customers?"
   ]
  },
  {
   "cell_type": "code",
   "execution_count": 6,
   "metadata": {
    "collapsed": false
   },
   "outputs": [
    {
     "name": "stdout",
     "output_type": "stream",
     "text": [
      "Satisfied customers: 51131; Unsatisfied customers: 2083\n",
      "Naive guess accuracy: 0.9608561656706882\n"
     ]
    }
   ],
   "source": [
    "unsat = y[y == 1].count()\n",
    "print(\"Satisfied customers: {}; Unsatisfied customers: {}\".format(len(y) - unsat, unsat))\n",
    "naive_guess = np.mean(y == np.zeros(len(y)))\n",
    "print(\"Naive guess accuracy: {}\".format(naive_guess))"
   ]
  },
  {
   "cell_type": "markdown",
   "metadata": {},
   "source": [
    "This is a bit discouraging. A naive guess of \"always satisfied\" performs as well as our best individual binary classifier. What this tells me then, is that these data columns aren't incredibly helpful in prediction. I'd be interested in a polynomial expansion of this data-set, but for now, that's more computation than I want to take on.\n",
    "\n",
    "# Dimensionality Reduction pt. 2 - LDA\n",
    "\n",
    "Knowing that our naive guess performs so well is a blessing and a curse:\n",
    "\n",
    "- Curse: The threshold for performance is incredibly high: We can only \"improve\" over the naive guess by 4%\n",
    "- Blessing: All the binary classification features we just discovered are worthless on their own. We can throw them out and reduce the data dimensionality from 369 to 111.\n",
    "\n",
    "Now, in removing these features from the dataset, I'm not saying that there is no \"information\" contained within them. There might be. But the only way we'd know is through a polynomial expansion, and I'm not going to take that on within this post.\n",
    "\n",
    "My initial thought for a \"next guess\" is to use the [LDA][3] model for dimensionality reduction. However, it can only reduce dimensions to $1 - p$, with $p$ being the number of classes. Since this is a binary classification, every LDA model that I try will have dimensionality one; when I actually try this, the predictor ends up being slightly less accurate than the naive guess.\n",
    "\n",
    "Instead, let's take a different approach to dimensionality reduction: [principle components analysis][4]. This allows us to perform the dimensionality reduction without worrying about the number of classes. Then, we'll use a [Gaussian Naive Bayes][5] model to actually do the prediction. This model is chosen simply because it doesn't take a long time to fit and compute; because PCA will take so long, I just want a prediction at the end of this. We can worry about using a more sophisticated LDA/QDA/SVM model later.\n",
    "\n",
    "Now into the actual process: We're going to test out PCA dimensionality reduction from 1 - 20 dimensions, and then predict using a Gaussian Naive Bayes model. The 20 dimensions upper limit was selected because the accuracy never improves after you get beyond that \\(I found out by running it myself\\). Hopefully, we'll find that we can create a model better than the naive guess.\n",
    "\n",
    "[3]:http://scikit-learn.org/stable/modules/lda_qda.html\n",
    "[4]:http://scikit-learn.org/stable/modules/generated/sklearn.decomposition.PCA.html\n",
    "[5]:http://scikit-learn.org/stable/modules/naive_bayes.html#gaussian-naive-bayes"
   ]
  },
  {
   "cell_type": "code",
   "execution_count": 7,
   "metadata": {
    "collapsed": false
   },
   "outputs": [
    {
     "data": {
      "image/png": "[encoded data removed]",
      "text/plain": [
       "<matplotlib.figure.Figure at 0x1c61e1f7940>"
      ]
     },
     "metadata": {},
     "output_type": "display_data"
    }
   ],
   "source": [
    "from sklearn.naive_bayes import GaussianNB\n",
    "from sklearn.decomposition import PCA\n",
    "\n",
    "X_no_bin = X.drop(b_class, 1)\n",
    "\n",
    "def evaluate_gnb(dims):\n",
    "    pca = PCA(n_components=dims)\n",
    "    X_xform = pca.fit_transform(X_no_bin)\n",
    "    \n",
    "    gnb = GaussianNB()\n",
    "    gnb.fit(X_xform, y)\n",
    "    return gnb.score(X_xform, y)\n",
    "\n",
    "dim_range = np.arange(1, 21)\n",
    "plt.plot(dim_range, [evaluate_gnb(dim) for dim in dim_range], label=\"Gaussian NB Accuracy\")\n",
    "plt.axhline(naive_guess, label=\"Naive Guess\", c='k')\n",
    "plt.axhline(1 - naive_guess, label=\"Inverse Naive Guess\", c='k')\n",
    "plt.gcf().set_size_inches(12, 6)\n",
    "plt.legend();"
   ]
  },
  {
   "cell_type": "markdown",
   "metadata": {},
   "source": [
    "\\*\\*sigh...\\*\\* After all the effort and computational power, we're still at square one: we have yet to beat out the naive guess threshold. With PCA in play we end up performing terribly, but not terribly enough that we can guess against ourselves.\n",
    "\n",
    "Let's try one last-ditch attempt using the entire data set:"
   ]
  },
  {
   "cell_type": "code",
   "execution_count": 8,
   "metadata": {
    "collapsed": false
   },
   "outputs": [
    {
     "data": {
      "image/png": "[encoded data removed]",
      "text/plain": [
       "<matplotlib.figure.Figure at 0x1c61e5782e8>"
      ]
     },
     "metadata": {},
     "output_type": "display_data"
    }
   ],
   "source": [
    "def evaluate_gnb_full(dims):\n",
    "    pca = PCA(n_components=dims)\n",
    "    X_xform = pca.fit_transform(X)\n",
    "    \n",
    "    gnb = GaussianNB()\n",
    "    gnb.fit(X_xform, y)\n",
    "    return gnb.score(X_xform, y)\n",
    "\n",
    "dim_range = np.arange(1, 21)\n",
    "plt.plot(dim_range, [evaluate_gnb(dim) for dim in dim_range], label=\"Gaussian NB Accuracy\")\n",
    "plt.axhline(naive_guess, label=\"Naive Guess\", c='k')\n",
    "plt.axhline(1 - naive_guess, label=\"Inverse Naive Guess\", c='k')\n",
    "plt.gcf().set_size_inches(12, 6)\n",
    "plt.legend();"
   ]
  },
  {
   "cell_type": "markdown",
   "metadata": {},
   "source": [
    "Nothing. It is interesting to note that the graphs are almost exactly the same: This would imply again that the variables we removed earlier (all the binary classifiers) indeed have almost no predictive power. It seems this problem is high-dimensional, but with almost no data that can actually inform our decisions.\n",
    "\n",
    "# Summary for Day 1\n",
    "\n",
    "After spending a couple hours with this dataset, there seems to be a fundamental issue in play: We have very high-dimensional data, and it has no bearing on our ability to actually predict customer satisfaction. This can be a huge issue: it implies that **no matter what model we use, we fundamentally can't perform well.** I'm sure most of this is because I'm not an experienced data scientist. Even so, we have yet to develop a strategy that can actually beat out the village idiot; **so far, the bank is best off just assuming all its customers are satisfied.** Hopefully more to come soon."
   ]
  },
  {
   "cell_type": "code",
   "execution_count": 9,
   "metadata": {
    "collapsed": false
   },
   "outputs": [
    {
     "name": "stdout",
     "output_type": "stream",
     "text": [
      "Running time: 0:00:58.715714\n"
     ]
    }
   ],
   "source": [
    "end = datetime.now()\n",
    "print(\"Running time: {}\".format(end - start))"
   ]
  },
  {
   "cell_type": "markdown",
   "metadata": {},
   "source": [
    "# Appendix\n",
    "\n",
    "Code used to split the initial training data:\n",
    "\n",
    "```python\n",
    "from sklearn.cross_validation import train_test_split\n",
    "data = pd.read_csv('train.csv')\n",
    "data.index = data.ID\n",
    "\n",
    "data_train, data_validate = train_test_split(\n",
    "    data, train_size=.7)\n",
    "\n",
    "data_train.to_csv('split_train.csv')\n",
    "data_validate.to_csv('split_validate.csv')\n",
    "```"
   ]
  }
 ],
 "metadata": {
  "kernelspec": {
   "display_name": "Python 3",
   "language": "python",
   "name": "python3"
  },
  "language_info": {
   "codemirror_mode": {
    "name": "ipython",
    "version": 3
   },
   "file_extension": ".py",
   "mimetype": "text/x-python",
   "name": "python",
   "nbconvert_exporter": "python",
   "pygments_lexer": "ipython3",
   "version": "3.5.1"
  }
 },
 "nbformat": 4,
 "nbformat_minor": 0
}
